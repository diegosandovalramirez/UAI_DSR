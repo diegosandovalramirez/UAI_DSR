{
 "cells": [
  {
   "cell_type": "code",
   "execution_count": null,
   "metadata": {},
   "outputs": [],
   "source": [
    "# Original de profesor Miguel Carrasco, UAI, REcon. de patrones de imágenes, Clase 7\n",
    "# Ligeramente editado por Diego Sandoval R. para la entrega de la Tarea 3\n",
    "\n",
    "from skimage.feature import greycomatrix, greycoprops\n",
    "import cv2\n",
    "import matplotlib.pyplot as plt\n",
    "import numpy as np \n",
    "from sklearn import preprocessing\n",
    "from math import radians\n",
    "from skimage.io import imread_collection\n",
    "import pandas as pd\n",
    "\n",
    "#cargamos las imágenes de la carpeta indicada\n",
    "col = imread_collection('texturas/textura_*.*')\n",
    "\n",
    "\n",
    "#submuestreo de 0->14 (15 niveles)\n",
    "new_scale = (0, 14)\n",
    "level = 15 #numero de niveles de la imagen \n",
    "lista_descriptores = ['contrast', 'dissimilarity','homogeneity', 'ASM', 'energy', 'correlation']\n",
    "\n",
    "\n",
    "F = []\n",
    "ntrpM = []\n",
    "\n",
    "#recorremos cada archivo\n",
    "for filename in col.files:\n",
    "\n",
    "    #leemos cada archivo\n",
    "    image = cv2.imread(filename, 0)\n",
    "\n",
    "    #submuestreamos cada imagen\n",
    "    imagen_2 = preprocessing.MinMaxScaler(new_scale).fit_transform(image).astype('int')\n",
    "\n",
    "    mrg = np.histogramdd(np.ravel(image), bins = 256)[0]/image.size\n",
    "    mrg = list(filter(lambda p: p > 0, np.ravel(mrg)))\n",
    "    #entropia\n",
    "    ntrp = -np.sum(np.multiply(mrg, np.log(mrg)))\n",
    "    \n",
    "    ntrpM.append(ntrp)\n",
    "\n",
    "    #calculamos la matriz de co-ocurrencia (Haralick)\n",
    "    P = greycomatrix(imagen_2, distances=[1], angles=[radians(0)], levels=level, symmetric=False, normed=False)\n",
    "    \n",
    "    #creamos una matriz para guardar los datos\n",
    "    features = []\n",
    "    \n",
    "    for descriptor in lista_descriptores:\n",
    "        res = np.squeeze(greycoprops(P,descriptor))\n",
    "        #agregamos cada descriptor a una lista\n",
    "        features.append(res.round(5))\n",
    "        #print(f'{descriptor}: {res:.4f}')\n",
    "        \n",
    "    F.append(features)\n",
    "\n",
    "#agregamos los datos a un dataframe\n",
    "# >> las columnas son los descriptores,\n",
    "# >> las filas son los nombres de los archivos\n",
    "df = pd.DataFrame(F, columns=lista_descriptores, index=col.files)\n",
    "df = df.assign(entropy=ntrpM)\n",
    "\n",
    "print(df)\n",
    "\n",
    "# Sanity check\n",
    "#print(ntrpM)"
   ]
  },
  {
   "cell_type": "code",
   "execution_count": null,
   "metadata": {},
   "outputs": [],
   "source": [
    "#loop para hacer un scatter de cada columna con cada columna\n",
    "for column in df:\n",
    "    df.plot.scatter(x = column, y = 'contrast')\n",
    "    df.plot.scatter(x = column, y = 'dissimilarity')\n",
    "    df.plot.scatter(x = column, y = 'homogeneity')\n",
    "    df.plot.scatter(x = column, y = 'energy')\n",
    "    df.plot.scatter(x = column, y = 'correlation')\n",
    "    df.plot.scatter(x = column, y = 'entropy')"
   ]
  },
  {
   "cell_type": "code",
   "execution_count": 27,
   "metadata": {},
   "outputs": [
    {
     "data": {
      "text/plain": [
       "<AxesSubplot: xlabel='homogeneity', ylabel='correlation'>"
      ]
     },
     "execution_count": 27,
     "metadata": {},
     "output_type": "execute_result"
    },
    {
     "data": {
      "image/png": "[encoded data removed]",
      "text/plain": [
       "<Figure size 640x480 with 1 Axes>"
      ]
     },
     "metadata": {},
     "output_type": "display_data"
    }
   ],
   "source": [
    "# Combinacion que separa las texturas mejor a mi opinion es\n",
    "# la relacion entre la homogeneidad y la correlacion entre las \n",
    "# imagenes\n",
    "\n",
    "df.plot.scatter(x = 'homogeneity', y = 'correlation')"
   ]
  }
 ],
 "metadata": {
  "interpreter": {
   "hash": "916dbcbb3f70747c44a77c7bcd40155683ae19c65e1c03b4aa3499c5328201f1"
  },
  "kernelspec": {
   "display_name": "Python 3.10.6 64-bit",
   "language": "python",
   "name": "python3"
  },
  "language_info": {
   "codemirror_mode": {
    "name": "ipython",
    "version": 3
   },
   "file_extension": ".py",
   "mimetype": "text/x-python",
   "name": "python",
   "nbconvert_exporter": "python",
   "pygments_lexer": "ipython3",
   "version": "3.10.6"
  },
  "orig_nbformat": 4
 },
 "nbformat": 4,
 "nbformat_minor": 2
}
